{
 "cells": [
  {
   "cell_type": "code",
   "execution_count": 22,
   "id": "07253e2f",
   "metadata": {},
   "outputs": [],
   "source": [
    "import shutil\n",
    "import os\n",
    "import glob"
   ]
  },
  {
   "cell_type": "code",
   "execution_count": 3,
   "id": "8f1ae291",
   "metadata": {},
   "outputs": [
    {
     "data": {
      "text/plain": [
       "'C:\\\\Users\\\\jerem\\\\OneDrive\\\\Bureau\\\\deep prat\\\\lung_image_sets'"
      ]
     },
     "execution_count": 3,
     "metadata": {},
     "output_type": "execute_result"
    }
   ],
   "source": [
    "os.getcwd()"
   ]
  },
  {
   "cell_type": "markdown",
   "id": "35fcaf7e",
   "metadata": {},
   "source": [
    "# IMPORTATION POUR LE TYPE LUNG_N"
   ]
  },
  {
   "cell_type": "markdown",
   "id": "c9de335e",
   "metadata": {},
   "source": [
    "Lung_n = Lung benign,en francais, Poumon Benin; c'est une tumeur non_cancereuse, et elle ne met pas la vie en danger. "
   ]
  },
  {
   "cell_type": "code",
   "execution_count": null,
   "id": "0c50e223",
   "metadata": {},
   "outputs": [],
   "source": [
    "#Création des sous dossier, pour les données d'entrainement, test et validation, la condition if, nous permet de \n",
    "#savoir si le sous dossier existe et eviter les doublons.\n",
    "\n",
    "if not os.path.exists('lung_n/lung_n_training'):\n",
    "    os.makedirs('lung_n/lung_n_training')\n",
    "    \n",
    "if not os.path.exists('lung_n/lung_n_test'):\n",
    "    os.makedirs('lung_n/lung_n_test')\n",
    "    \n",
    "if not os.path.exists('lung_n/lung_n_validation'):\n",
    "    os.makedirs('lung_n/lung_n_validation')"
   ]
  },
  {
   "cell_type": "code",
   "execution_count": 6,
   "id": "16cc4bbf",
   "metadata": {},
   "outputs": [],
   "source": [
    "data = os.listdir(\"./lung_n\")\n",
    "j= 0"
   ]
  },
  {
   "cell_type": "markdown",
   "id": "8ce8d8db",
   "metadata": {},
   "source": [
    "La variable J, nous a servi de compteur, pour nous permettre de repartir en terme de pourcentage les données d'entrainement : 80%, les données de teste 10%, ainsi que les données de validation 10%.\n",
    "80% = 4000 fichiers pixcels,\n",
    "10% = 500 fichiers pixcels,\n",
    "dans la condition if, elif, juste permetre la copy conditionnée avec shutil."
   ]
  },
  {
   "cell_type": "code",
   "execution_count": 24,
   "id": "cc87195e",
   "metadata": {},
   "outputs": [],
   "source": [
    "#La commande shutil.copy, \n",
    "for i in data :\n",
    "    if(i.endswith('.jpeg') and j>=0 and j< 4003 ):\n",
    "        shutil.copy(\"./lung_n/{}\".format(i),\"./lung_n/lung_n_training/{}\".format(i) )\n",
    "    elif(i.endswith('.jpeg') and j>= 4003 and j< 4503):\n",
    "        shutil.copy(\"./lung_n/{}\".format(i),\"./lung_n/lung_n_test/{}\".format(i) )\n",
    "   \n",
    "    elif(i.endswith('.jpeg') and j>= 4503 and j<5003):\n",
    "        shutil.copy(\"./lung_n/{}\".format(i),\"./lung_n/lung_n_validation/{}\".format(i) )\n",
    "    j = j+1  "
   ]
  },
  {
   "cell_type": "code",
   "execution_count": 23,
   "id": "8d0def55",
   "metadata": {},
   "outputs": [],
   "source": [
    "files = glob.glob('lung_n/*.jpeg')\n",
    "for file in files:\n",
    "    try:\n",
    "        os.remove(file)\n",
    "    except OSError as e:\n",
    "        print(f\"Errror:{e.strerror}\")\n"
   ]
  },
  {
   "cell_type": "markdown",
   "id": "4d6b39e4",
   "metadata": {},
   "source": [
    "# Importation des donnees pour le type Lung_Aca"
   ]
  },
  {
   "cell_type": "markdown",
   "id": "3c73a38d",
   "metadata": {},
   "source": [
    "Lung_Aca = Lung Adenocarcinoma, en francais, Adenocarcinome pulmonaire, c'est le cancer de poumon le plus courant : Non à petites cellules"
   ]
  },
  {
   "cell_type": "code",
   "execution_count": 26,
   "id": "372cf4b9",
   "metadata": {},
   "outputs": [],
   "source": [
    "data = os.listdir(\"./lung_aca\")\n",
    "j= 0"
   ]
  },
  {
   "cell_type": "code",
   "execution_count": 32,
   "id": "52a0c003",
   "metadata": {},
   "outputs": [],
   "source": [
    "#Création des sous dossier, pour les données d'entrainement, test et validation, la condition if, nous permet de \n",
    "#savoir si le sous dossier existe et eviter les doublons.\n",
    "\n",
    "if not os.path.exists('lung_aca/lung_aca_training'):\n",
    "    os.makedirs('lung_aca/lung_aca_training')\n",
    "    \n",
    "if not os.path.exists('lung_aca/lung_aca_test'):\n",
    "    os.makedirs('lung_aca/lung_aca_test')\n",
    "    \n",
    "if not os.path.exists('lung_aca/lung_aca_validation'):\n",
    "    os.makedirs('lung_aca/lung_aca_validation')\n",
    "    "
   ]
  },
  {
   "cell_type": "code",
   "execution_count": 30,
   "id": "ab077c16",
   "metadata": {},
   "outputs": [],
   "source": [
    "for i in data :\n",
    "    if(i.endswith('.jpeg') and j>=0 and j< 4000 ):\n",
    "        shutil.move(\"./lung_aca/{}\".format(i),\"./lung_aca/lung_aca_training/{}\".format(i) )\n",
    "    elif(i.endswith('.jpeg') and j>= 4000 and j< 4500):\n",
    "        shutil.move(\"./lung_aca/{}\".format(i),\"./lung_aca/lung_aca_test/{}\".format(i) )\n",
    "   \n",
    "    elif(i.endswith('.jpeg') and j>= 4500 and j<5000):\n",
    "        shutil.move(\"./lung_aca/{}\".format(i),\"./lung_aca/lung_aca_validation/{}\".format(i) )\n",
    "    j = j+1 "
   ]
  },
  {
   "cell_type": "markdown",
   "id": "9b145fdc",
   "metadata": {},
   "source": [
    "# IMPORTATION DU TYPE  Lung_SCC"
   ]
  },
  {
   "cell_type": "markdown",
   "id": "764511ce",
   "metadata": {},
   "source": [
    "Lung_SCC = Lung Squamous cell carcinoma, en francais épidermoide pulmonaire, type des cancer de poumon non à petites cellules à evolution lente, du par le tabagigisme. "
   ]
  },
  {
   "cell_type": "code",
   "execution_count": 31,
   "id": "8763d8d2",
   "metadata": {},
   "outputs": [],
   "source": [
    "data = os.listdir(\"./lung_scc\")\n",
    "j= 0"
   ]
  },
  {
   "cell_type": "code",
   "execution_count": null,
   "id": "44a4cf73",
   "metadata": {},
   "outputs": [],
   "source": [
    "#Création des sous dossier, pour les données d'entrainement, test et validation, la condition if, nous permet de \n",
    "#savoir si le sous dossier existe et eviter les doublons.\n",
    "\n",
    "if not os.path.exists('lung_scc/lung_scc_training'):\n",
    "    os.makedirs('lung_scc/lung_scc_training')\n",
    "    \n",
    "if not os.path.exists('lung_scc/lung_scc_test'):\n",
    "    os.makedirs('lung_scc/lung_scc_test')\n",
    "    \n",
    "if not os.path.exists('lung_scc/lung_scc_validation'):\n",
    "    os.makedirs('lung_scc/lung_scc_validation')"
   ]
  },
  {
   "cell_type": "code",
   "execution_count": 33,
   "id": "2ead7c8a",
   "metadata": {},
   "outputs": [],
   "source": [
    "for i in data :\n",
    "    if(i.endswith('.jpeg') and j>=0 and j< 4000 ):\n",
    "        shutil.move(\"./lung_scc/{}\".format(i),\"./lung_scc/lung_scc_training/{}\".format(i) )\n",
    "    elif(i.endswith('.jpeg') and j>= 4000 and j< 4500):\n",
    "        shutil.move(\"./lung_scc/{}\".format(i),\"./lung_scc/lung_scc_test/{}\".format(i) )\n",
    "   \n",
    "    elif(i.endswith('.jpeg') and j>= 4500 and j<5000):\n",
    "        shutil.move(\"./lung_scc/{}\".format(i),\"./lung_scc/lung_scc_validation/{}\".format(i) )\n",
    "    j = j+1 "
   ]
  },
  {
   "cell_type": "code",
   "execution_count": null,
   "id": "858fe032",
   "metadata": {},
   "outputs": [],
   "source": []
  }
 ],
 "metadata": {
  "kernelspec": {
   "display_name": "Python 3",
   "language": "python",
   "name": "python3"
  },
  "language_info": {
   "codemirror_mode": {
    "name": "ipython",
    "version": 3
   },
   "file_extension": ".py",
   "mimetype": "text/x-python",
   "name": "python",
   "nbconvert_exporter": "python",
   "pygments_lexer": "ipython3",
   "version": "3.8.8"
  }
 },
 "nbformat": 4,
 "nbformat_minor": 5
}
